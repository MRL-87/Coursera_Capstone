{
 "cells": [
  {
   "cell_type": "markdown",
   "metadata": {},
   "source": [
    "# Capstone Project - The battle of neighbours - Report (Week 4)"
   ]
  },
  {
   "cell_type": "markdown",
   "metadata": {},
   "source": [
    "##### **Alessandro Morello** for *Coursera*"
   ]
  },
  {
   "cell_type": "markdown",
   "metadata": {},
   "source": [
    "## Introduction"
   ]
  },
  {
   "cell_type": "markdown",
   "metadata": {},
   "source": [
    "There is a huge amount of factors to be taken into consideration when developing a business plan aimed to create a new fast food industry reality to an already overcrowded country as America. Besides economical, sociological and legal aspect, one of the most important aspects to be decided by the stakeholders is the geographical location of the future business. I, as a data scientist, will try to answer the question \"Which is the most favorable within the Brooklyn area (neighborhood) for a new fast food chain to be initiated?\" i will guide you a journey which main objective is to answer the mentioned question and analyzing the tools involved in this process. Thank you in advance for reading!"
   ]
  },
  {
   "cell_type": "markdown",
   "metadata": {},
   "source": [
    "## The business problem"
   ]
  },
  {
   "cell_type": "markdown",
   "metadata": {},
   "source": [
    "The main objective of this project is to predict the best possible location for a new fast food restaurant chain aimed to help the business choose the right neighborhood that can quickly overcome the initial loss and expensive in the shortest timeframe possible. In order to do this i will rely on the already available data and compare it to our needs, analyzing all the possibilities based on all the neighbours that will hopefully help me in predicting one or more ideal location."
   ]
  },
  {
   "cell_type": "markdown",
   "metadata": {},
   "source": [
    "## The data used"
   ]
  },
  {
   "cell_type": "markdown",
   "metadata": {},
   "source": [
    "The data used in order to solve the problem will be a combination between a publicly available data and the precious help of our Foursquare API, below in a more detailed list:\n",
    "\n",
    "1. NYC neighbors dataset with locations: https://geo.nyu.edu/catalog/nyu_2451_34572\n",
    "2. Foursquare API - neighbors\n",
    "3. Foursquare API - venues"
   ]
  },
  {
   "cell_type": "code",
   "execution_count": null,
   "metadata": {},
   "outputs": [],
   "source": []
  }
 ],
 "metadata": {
  "kernelspec": {
   "display_name": "Python 3",
   "language": "python",
   "name": "python3"
  },
  "language_info": {
   "codemirror_mode": {
    "name": "ipython",
    "version": 3
   },
   "file_extension": ".py",
   "mimetype": "text/x-python",
   "name": "python",
   "nbconvert_exporter": "python",
   "pygments_lexer": "ipython3",
   "version": "3.6.8"
  }
 },
 "nbformat": 4,
 "nbformat_minor": 2
}
