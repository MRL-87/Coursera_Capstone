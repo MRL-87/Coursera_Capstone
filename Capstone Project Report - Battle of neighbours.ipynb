{
 "cells": [
  {
   "cell_type": "markdown",
   "metadata": {},
   "source": [
    "# Capstone Project - The battle of neighborhoods - Full Report"
   ]
  },
  {
   "cell_type": "markdown",
   "metadata": {},
   "source": [
    "##### **Alessandro Morello** for *Coursera*"
   ]
  },
  {
   "cell_type": "markdown",
   "metadata": {},
   "source": [
    "## Introduction"
   ]
  },
  {
   "cell_type": "markdown",
   "metadata": {},
   "source": [
    "There is a huge amount of factors to be taken into consideration when developing a business plan aimed to create a new fast food industry reality to an already overcrowded country as America. Besides economical, sociological and legal aspect, one of the most important aspects to be decided by the stakeholders is the geographical location of the future business. I, as a data scientist, will try to answer the question \"Which is the most favorable within the Brooklyn area (neighborhood) for a new fast food chain to be initiated?\" i will guide you a journey which main objective is to answer the mentioned question and analyzing the tools involved in this process. Thank you in advance for reading!"
   ]
  },
  {
   "cell_type": "markdown",
   "metadata": {},
   "source": [
    "### Introduction - The business problem"
   ]
  },
  {
   "cell_type": "markdown",
   "metadata": {},
   "source": [
    "The main objective of this project is to predict the best possible location for a new fast food restaurant chain aimed to help the business choose the right neighborhood that can quickly overcome the initial loss and expensive in the shortest timeframe possible. In order to do this i will rely on the already available data and compare it to our needs, analyzing all the possibilities based on all the neighbours that will hopefully help me in predicting one or more ideal location."
   ]
  },
  {
   "cell_type": "markdown",
   "metadata": {},
   "source": [
    "### Introduction - The data used"
   ]
  },
  {
   "cell_type": "markdown",
   "metadata": {},
   "source": [
    "The data used in order to solve the problem will be a combination between a publicly available data and the precious help of our Foursquare API, below in a more detailed list:\n",
    "\n",
    "1. NYC neighbors dataset with locations: https://geo.nyu.edu/catalog/nyu_2451_34572\n",
    "2. Foursquare API - neighbors\n",
    "3. Foursquare API - venues\n",
    "4. Foursquare API - other amenities"
   ]
  },
  {
   "cell_type": "markdown",
   "metadata": {},
   "source": [
    "## Methodology Explained"
   ]
  },
  {
   "cell_type": "markdown",
   "metadata": {},
   "source": [
    "### Methodology - Tools used"
   ]
  },
  {
   "cell_type": "markdown",
   "metadata": {},
   "source": [
    "For this analysis i took into consideration the following tools in other to perform essential tasks like: exploratory data analysis, prediction models, data cleaning and wrangling.\n",
    "The following tools and libraries are included within the aforementioned:\n",
    "\n",
    "* Python libraries:\n",
    "    1. Numpy - To handle vectors\n",
    "    2. Pandas - Data analysis\n",
    "    3. jSON - Json files handler\n",
    "    4. Geopy - Converting addresses in coordinates\n",
    "    5. Matplotlb - For plots rendering\n",
    "    6. Sklearn - For k-means and clustering features in ML\n",
    "    7. Folium - For map renderings\n",
    "    8. Foursquare API - As per data used description\n",
    "* Jupyter notebook from IBM datascientistworkbench"
   ]
  },
  {
   "cell_type": "markdown",
   "metadata": {},
   "source": [
    "### Methodology - The full steps set towards the conclusion"
   ]
  },
  {
   "cell_type": "markdown",
   "metadata": {},
   "source": [
    "* Data Preparation:\n",
    "    1. The data was downloaded from the link and converted into a pandas dataframe. Even though in NYC there are 5 boroughs and 306 neighborhoods we are mainly interested in Brooklyn. \n",
    "    2. The data was \"sliced\" within the dataframe and only Brooklyn was kept\n",
    "* Data exploration:\n",
    "    1. Fetched all the neighborhoods in Brooklyn. For each neighborhood i obtained the venues, location and category  with the help of Foursquare API.\n",
    "    2. The categorical data is transformed in integer data\n",
    "    3. The frequency of the obtained venues are now displayed depending on the neighborhood.\n",
    "* Visualizing the results and applying ML techniques\n",
    "    1. Applying k-means in order to cluster and create a frequency metric.\n",
    "    2. Categorized the frequency of a venue and visualizing the created clusters\n",
    "    3. Plotted a map with folium in order to have an overview on the best clusters\n",
    "\n",
    "Based on the above-mentioned and excluding areas where restaurants are not the most common venues we can determine that the cluster 7 contains the most suitable areas."
   ]
  },
  {
   "cell_type": "markdown",
   "metadata": {},
   "source": [
    "## Conclusion & Results"
   ]
  },
  {
   "cell_type": "markdown",
   "metadata": {},
   "source": [
    "From the above data we can analyze the most suitable location for the new Fast Food Restaurant Chain to be opened. It is imperative in this case that the neighborhood is surrounded by the highest number of Restaurants, Grocery and other utility shops close by. For this specific reason we took into consideration the clusters where the top 5 venues were in regards of food places and discard other venues. For these reasons, i have chosen the Rugby and Remsen village as the most feasible choices.\n",
    "\n",
    "We can state that in this specific analysis, the applying of k-clustering means helped us to find the most ideal place to start the type of business mentioned in this capstone project."
   ]
  }
 ],
 "metadata": {
  "kernelspec": {
   "display_name": "Python 3",
   "language": "python",
   "name": "python3"
  },
  "language_info": {
   "codemirror_mode": {
    "name": "ipython",
    "version": 3
   },
   "file_extension": ".py",
   "mimetype": "text/x-python",
   "name": "python",
   "nbconvert_exporter": "python",
   "pygments_lexer": "ipython3",
   "version": "3.6.8"
  }
 },
 "nbformat": 4,
 "nbformat_minor": 2
}
